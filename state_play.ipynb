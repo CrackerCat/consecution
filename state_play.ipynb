{
 "cells": [
  {
   "cell_type": "code",
   "execution_count": 25,
   "metadata": {
    "collapsed": true
   },
   "outputs": [],
   "source": [
    "class State:\n",
    "    def __init__(self, **kwargs):\n",
    "        self._state = kwargs\n",
    "        \n",
    "    def clear(self):\n",
    "        self._state = {}\n",
    "    \n",
    "    def get_key(self, key):\n",
    "        return self._state.get(key, None)\n",
    "        \n",
    "    def set_key(self, key, value):\n",
    "        \"\"\"\n",
    "        Overwrites a key with the provided value.\n",
    "        \"\"\"\n",
    "        self._state[key] = value\n",
    "        \n",
    "    def update_key(self, key, func):\n",
    "        \"\"\"\n",
    "        Updates a mutable object stored in the specified key using\n",
    "        the specified function which will be passed a single argument\n",
    "        containing the currently stored mutable object.  The specified\n",
    "        function should have no return value, modifying the supplied object\n",
    "        in place instead.\n",
    "        \n",
    "        example to add an element to the end of a list:\n",
    "        \n",
    "        state.update_key('my_list': lambda the_list: the_list.append(7))\n",
    "        \"\"\"\n",
    "        func(self._state.get(key, None))\n",
    "    \n",
    "        "
   ]
  },
  {
   "cell_type": "code",
   "execution_count": 26,
   "metadata": {
    "collapsed": false
   },
   "outputs": [],
   "source": [
    "state = State(name='rob', dollars=[])"
   ]
  },
  {
   "cell_type": "code",
   "execution_count": 27,
   "metadata": {
    "collapsed": false
   },
   "outputs": [
    {
     "data": {
      "text/plain": [
       "{'dollars': [0, 1, 2, 3, 4, 5, 6, 7, 8, 9], 'name': 'rich'}"
      ]
     },
     "execution_count": 27,
     "metadata": {},
     "output_type": "execute_result"
    }
   ],
   "source": [
    "state.set_key('name', 'rich')\n",
    "state.update_key('dollars', lambda obj: obj.append(3))\n",
    "state.update_key('dollars', lambda obj: obj.extend(range(10)))\n",
    "state.update_key('dollars', lambda obj:  obj.pop(0))\n",
    "\n",
    "state._state"
   ]
  },
  {
   "cell_type": "code",
   "execution_count": 22,
   "metadata": {
    "collapsed": true
   },
   "outputs": [],
   "source": [
    "ll = list(range(10))"
   ]
  },
  {
   "cell_type": "code",
   "execution_count": 23,
   "metadata": {
    "collapsed": false
   },
   "outputs": [
    {
     "data": {
      "text/plain": [
       "[0, 1, 2, 3, 4, 5, 6, 7, 8, 9]"
      ]
     },
     "execution_count": 23,
     "metadata": {},
     "output_type": "execute_result"
    }
   ],
   "source": [
    "ll.pop()"
   ]
  },
  {
   "cell_type": "code",
   "execution_count": null,
   "metadata": {
    "collapsed": true
   },
   "outputs": [],
   "source": []
  }
 ],
 "metadata": {
  "kernelspec": {
   "display_name": "Python 3",
   "language": "python",
   "name": "python3"
  },
  "language_info": {
   "codemirror_mode": {
    "name": "ipython",
    "version": 3
   },
   "file_extension": ".py",
   "mimetype": "text/x-python",
   "name": "python",
   "nbconvert_exporter": "python",
   "pygments_lexer": "ipython3",
   "version": "3.5.1"
  }
 },
 "nbformat": 4,
 "nbformat_minor": 0
}
