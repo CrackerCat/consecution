{
 "cells": [
  {
   "cell_type": "code",
   "execution_count": 66,
   "metadata": {
    "collapsed": false
   },
   "outputs": [],
   "source": [
    "import os\n",
    "import sys\n",
    "sys.path.append('../..')\n",
    "from consecution import Node, Pipeline, GlobalState\n",
    "import random\n",
    "import pandas as pd\n",
    "import numpy as np\n",
    "import scipy as scp\n",
    "from scipy import stats\n",
    "from collections import namedtuple\n",
    "import datetime\n",
    "import copy\n",
    "from dateutil.parser import parse\n",
    "from dateutil.relativedelta import relativedelta\n",
    "import seaborn as sns\n",
    "import pylab as pl\n",
    "import random\n",
    "%matplotlib inline\n"
   ]
  },
  {
   "cell_type": "code",
   "execution_count": 83,
   "metadata": {
    "collapsed": false
   },
   "outputs": [],
   "source": [
    "starting = parse('1/1/2016')\n",
    "n_days = 365\n",
    "one_day = datetime.timedelta(days=1)\n",
    "days = [starting + nn * one_day for nn in range(n_days)]\n",
    "baseline_recs_per_day = 100\n",
    "baseline_mu = 10\n",
    "sigma = 100\n",
    "\n",
    "def get_day_fractions(t):\n",
    "    return [.2, .3, .4, .5, .6, .7, .1][t.weekday()]\n",
    "\n",
    "def get_hour_fraction(t):\n",
    "    today = datetime.datetime(t.year, t.month, t.day)\n",
    "    tomorrow = today + datetime.timedelta(days=1)\n",
    "    fraction = (t - today).total_seconds() / float((tomorrow - today).total_seconds())\n",
    "    return fraction\n",
    "    \n"
   ]
  },
  {
   "cell_type": "code",
   "execution_count": 88,
   "metadata": {
    "collapsed": false
   },
   "outputs": [
    {
     "data": {
      "text/html": [
       "<div>\n",
       "<table border=\"1\" class=\"dataframe\">\n",
       "  <thead>\n",
       "    <tr style=\"text-align: right;\">\n",
       "      <th></th>\n",
       "      <th>amount</th>\n",
       "    </tr>\n",
       "    <tr>\n",
       "      <th>time</th>\n",
       "      <th></th>\n",
       "    </tr>\n",
       "  </thead>\n",
       "  <tbody>\n",
       "    <tr>\n",
       "      <th>2016-01-01 08:05:59</th>\n",
       "      <td>61.718588</td>\n",
       "    </tr>\n",
       "    <tr>\n",
       "      <th>2016-01-01 08:10:31</th>\n",
       "      <td>48.819577</td>\n",
       "    </tr>\n",
       "    <tr>\n",
       "      <th>2016-01-01 08:22:12</th>\n",
       "      <td>122.051658</td>\n",
       "    </tr>\n",
       "    <tr>\n",
       "      <th>2016-01-01 08:38:15</th>\n",
       "      <td>-33.488257</td>\n",
       "    </tr>\n",
       "    <tr>\n",
       "      <th>2016-01-01 08:41:20</th>\n",
       "      <td>63.819369</td>\n",
       "    </tr>\n",
       "  </tbody>\n",
       "</table>\n",
       "</div>"
      ],
      "text/plain": [
       "                         amount\n",
       "time                           \n",
       "2016-01-01 08:05:59   61.718588\n",
       "2016-01-01 08:10:31   48.819577\n",
       "2016-01-01 08:22:12  122.051658\n",
       "2016-01-01 08:38:15  -33.488257\n",
       "2016-01-01 08:41:20   63.819369"
      ]
     },
     "execution_count": 88,
     "metadata": {},
     "output_type": "execute_result"
    }
   ],
   "source": [
    "rec_list = []\n",
    "for day in days:\n",
    "    num_recs = int(baseline_recs_per_day * get_day_fractions(day))\n",
    "    for nr in range(num_recs):\n",
    "        num_seconds = random.randint(3600*8, 3600*(17) - 1)\n",
    "        time_stamp = day + datetime.timedelta(seconds=num_seconds)\n",
    "        mu = baseline_mu * 10*get_hour_fraction(time_stamp)\n",
    "        value = 1 *mu + sigma * np.random.randn()\n",
    "        rec_list.append((time_stamp, value))\n",
    "df = pd.DataFrame(rec_list, columns=['time', 'amount'])\n",
    "#df = df.sort_values(by='time')\n",
    "df = df.set_index('time').sort_index()\n",
    "df.head()"
   ]
  },
  {
   "cell_type": "code",
   "execution_count": 89,
   "metadata": {
    "collapsed": false
   },
   "outputs": [],
   "source": [
    "os.system('rm cash_flow*.csv')\n",
    "for file_name, group in df.groupby(by=lambda ind: 'cash_flows_{}-{:02d}.csv'.format(ind.year, ind.month)):\n",
    "    group.reset_index().to_csv(file_name, index=False)\n"
   ]
  },
  {
   "cell_type": "code",
   "execution_count": null,
   "metadata": {
    "collapsed": true
   },
   "outputs": [],
   "source": []
  }
 ],
 "metadata": {
  "kernelspec": {
   "display_name": "Python 2",
   "language": "python",
   "name": "python2"
  },
  "language_info": {
   "codemirror_mode": {
    "name": "ipython",
    "version": 2
   },
   "file_extension": ".py",
   "mimetype": "text/x-python",
   "name": "python",
   "nbconvert_exporter": "python",
   "pygments_lexer": "ipython2",
   "version": "2.7.12"
  }
 },
 "nbformat": 4,
 "nbformat_minor": 0
}
