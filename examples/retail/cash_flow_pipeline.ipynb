{
 "cells": [
  {
   "cell_type": "code",
   "execution_count": 1,
   "metadata": {
    "collapsed": false
   },
   "outputs": [],
   "source": [
    "import sys\n",
    "sys.path.append('../..')\n",
    "from consecution import Node, Pipeline, GlobalState, Clock\n",
    "from collections import namedtuple, defaultdict\n",
    "import datetime\n",
    "from dateutil.parser import parse\n",
    "import glob\n",
    "import csv\n",
    "import itertools\n"
   ]
  },
  {
   "cell_type": "code",
   "execution_count": 23,
   "metadata": {
    "collapsed": false
   },
   "outputs": [
    {
     "data": {
      "image/png": "[encoded data removed]",
      "text/plain": [
       "<IPython.core.display.Image object>"
      ]
     },
     "metadata": {},
     "output_type": "display_data"
    },
    {
     "name": "stdout",
     "output_type": "stream",
     "text": [
      "            tag_kind                 tag         mean_amount   transaction_count\n",
      "--------------------------------------------------------------------------------\n",
      "                hour                   8               35.71                1616\n",
      "                hour                   9               38.97                1627\n",
      "                hour                  10                45.7                1597\n",
      "                hour                  11               49.62                1608\n",
      "                hour                  12               52.66                1608\n",
      "                hour                  13               61.79                1625\n",
      "                hour                  14                61.7                1698\n",
      "                hour                  15                67.1                1635\n",
      "                hour                  16               72.24                1606\n",
      "--------------------------------------------------------------------------------\n",
      "             weekday               1_sun               57.81                 520\n",
      "             weekday               2_mon               49.73                1040\n",
      "             weekday               3_tue               54.91                1560\n",
      "             weekday               4_wed               57.87                2080\n",
      "             weekday               5_thu               53.86                2600\n",
      "             weekday               6_fri               51.49                3180\n",
      "             weekday               7_sat               54.36                3640\n",
      " seconds  name\n",
      "pipeline  0.282652\n",
      "\n"
     ]
    }
   ],
   "source": [
    "Rec = namedtuple('Rec', 'time amount')\n",
    "Key = namedtuple('Key', 'kind val')\n",
    "TagRec = namedtuple('TagRec', 'time amount tag')\n",
    "AggRec = namedtuple('AggRec', 'key sum_val count_val')\n",
    "SummaryRec = namedtuple('SummaryRec', 'tag_kind tag mean count')\n",
    "\n",
    "\n",
    "class RecordsFromFiles(Node):\n",
    "    def process(self, file_name):\n",
    "        with open(file_name) as in_file:\n",
    "            for row in csv.DictReader(in_file):\n",
    "                t = row['time']\n",
    "                row['time'] = datetime.datetime(*[int(s) for s in t[:4], t[5:7], t[8:10], t[11:13]])\n",
    "                row['amount'] = float(row['amount'])\n",
    "                self.push(Rec(**row))\n",
    "\n",
    "                \n",
    "class EmitPeriodRecs(Node):\n",
    "    def process(self, rec):\n",
    "        self.push(TagRec(time=rec.time.hour, amount=rec.amount, tag='hour'))\n",
    "        day_tag = '2_mon 3_tue 4_wed 5_thu 6_fri 7_sat 1_sun'.split()[rec.time.weekday()]\n",
    "        self.push(TagRec(time=day_tag, amount=rec.amount, tag='weekday'))\n",
    "\n",
    "class Agg(Node):\n",
    "    def begin(self):\n",
    "        self.sum_val_for = defaultdict(lambda: 0)\n",
    "        self.count_val_for = defaultdict(lambda: 0)\n",
    "        \n",
    "    def get_key(self, rec):\n",
    "        return Key(kind=rec.tag, val=rec.time)\n",
    "    \n",
    "    def process(self, rec):\n",
    "        key = self.get_key(rec)\n",
    "        self.sum_val_for[key] += rec.amount\n",
    "        self.count_val_for[key] += 1\n",
    "\n",
    "    def end(self):\n",
    "        for key in sorted(self.sum_val_for.keys()):\n",
    "            self.push(\n",
    "                AggRec(key, self.sum_val_for[key], self.count_val_for[key])\n",
    "            )\n",
    "    \n",
    "class Summary(Node):\n",
    "    def process(self, rec):\n",
    "        self.global_state.summary_rows.append(\n",
    "            SummaryRec(\n",
    "                tag_kind=rec.key.kind,\n",
    "                tag=rec.key.val,\n",
    "                mean=round(rec.sum_val / float(rec.count_val), 2),\n",
    "                count=rec.count_val\n",
    "            ))\n",
    "    \n",
    "        \n",
    "class Printer(Node):\n",
    "    def process(self, rec):\n",
    "        print rec\n",
    "\n",
    "class CashPipeline(Pipeline):\n",
    "    def begin(self):\n",
    "        self.global_state.clock = Clock()\n",
    "        self.global_state.clock.start('pipeline')\n",
    "        self.global_state.summary_rows = []\n",
    "        \n",
    "    def end(self):\n",
    "        self.global_state.clock.stop('pipeline')\n",
    "                \n",
    "\n",
    "        return self.global_state.summary_rows\n",
    "            \n",
    "def print_results(results):\n",
    "    columns = 'tag_kind tag mean_amount transaction_count'.split()\n",
    "    template = '{:>20}' * 4 + '\\n'\n",
    "    sys.stdout.write(template.format(*columns))\n",
    "    last_kind = None\n",
    "    for kind, result_batch in itertools.groupby(sorted(results), lambda r: r.tag_kind):\n",
    "        print '-' * 80\n",
    "        for result in result_batch:\n",
    "            sys.stdout.write(template.format(*result))\n",
    "                \n",
    "pipe = CashPipeline(\n",
    "    RecordsFromFiles('records_from_files')\n",
    "    | EmitPeriodRecs('emit_period_recs')\n",
    "    | Agg('agg')\n",
    "    | Summary('summary')\n",
    ")\n",
    "pipe.plot(display_noteook=True)\n",
    "results = pipe.consume(glob.glob('cash_flows*.csv'))\n",
    "print_results(results)\n",
    "print pipe.global_state.clock\n",
    "\n"
   ]
  },
  {
   "cell_type": "code",
   "execution_count": null,
   "metadata": {
    "collapsed": true
   },
   "outputs": [],
   "source": []
  },
  {
   "cell_type": "code",
   "execution_count": null,
   "metadata": {
    "collapsed": true
   },
   "outputs": [],
   "source": []
  },
  {
   "cell_type": "code",
   "execution_count": 22,
   "metadata": {
    "collapsed": false,
    "scrolled": false
   },
   "outputs": [
    {
     "name": "stdout",
     "output_type": "stream",
     "text": [
      "\n",
      "Pipeline\n",
      "--------------------------------------------------------------------\n",
      "     records_from_files | emit_period_recs\n",
      "       emit_period_recs | [agg, tag_debit_credit]\n",
      "                    agg | summary\n",
      "       tag_debit_credit | tag_debit_credit.router\n",
      "tag_debit_credit.router | [credit_agg, debit_agg]\n",
      "              debit_agg | summary\n",
      "             credit_agg | summary\n",
      "--------------------------------------------------------------------\n",
      "\n"
     ]
    },
    {
     "data": {
      "image/png": "[encoded data removed]",
      "text/plain": [
       "<IPython.core.display.Image object>"
      ]
     },
     "metadata": {},
     "output_type": "display_data"
    },
    {
     "name": "stdout",
     "output_type": "stream",
     "text": [
      "            tag_kind                 tag         mean_amount   transaction_count\n",
      "--------------------------------------------------------------------------------\n",
      "         credit_hour                   8               66.64                 593\n",
      "         credit_hour                   9               68.04                 562\n",
      "         credit_hour                  10               67.28                 513\n",
      "         credit_hour                  11               62.22                 488\n",
      "         credit_hour                  12               62.08                 497\n",
      "         credit_hour                  13               64.21                 428\n",
      "         credit_hour                  14                60.6                 453\n",
      "         credit_hour                  15                57.5                 412\n",
      "         credit_hour                  16               55.56                 378\n",
      "--------------------------------------------------------------------------------\n",
      "      credit_weekday               1_sun               59.69                 152\n",
      "      credit_weekday               2_mon               64.61                 323\n",
      "      credit_weekday               3_tue                62.5                 464\n",
      "      credit_weekday               4_wed               61.26                 560\n",
      "      credit_weekday               5_thu               63.65                 776\n",
      "      credit_weekday               6_fri               64.55                 973\n",
      "      credit_weekday               7_sat               62.89                1076\n",
      "--------------------------------------------------------------------------------\n",
      "          debit_hour                   8               95.04                1023\n",
      "          debit_hour                   9               95.44                1065\n",
      "          debit_hour                  10               99.16                1084\n",
      "          debit_hour                  11               98.34                1120\n",
      "          debit_hour                  12              103.99                1111\n",
      "          debit_hour                  13              106.84                1197\n",
      "          debit_hour                  14              106.21                1245\n",
      "          debit_hour                  15              109.07                1223\n",
      "          debit_hour                  16              111.59                1228\n",
      "--------------------------------------------------------------------------------\n",
      "       debit_weekday               1_sun              106.35                 368\n",
      "       debit_weekday               2_mon              101.24                 717\n",
      "       debit_weekday               3_tue              104.61                1096\n",
      "       debit_weekday               4_wed              101.76                1520\n",
      "       debit_weekday               5_thu              103.86                1824\n",
      "       debit_weekday               6_fri              102.64                2207\n",
      "       debit_weekday               7_sat              103.57                2564\n",
      "--------------------------------------------------------------------------------\n",
      "                hour                   8               35.71                1616\n",
      "                hour                   9               38.97                1627\n",
      "                hour                  10                45.7                1597\n",
      "                hour                  11               49.62                1608\n",
      "                hour                  12               52.66                1608\n",
      "                hour                  13               61.79                1625\n",
      "                hour                  14                61.7                1698\n",
      "                hour                  15                67.1                1635\n",
      "                hour                  16               72.24                1606\n",
      "--------------------------------------------------------------------------------\n",
      "             weekday               1_sun               57.81                 520\n",
      "             weekday               2_mon               49.73                1040\n",
      "             weekday               3_tue               54.91                1560\n",
      "             weekday               4_wed               57.87                2080\n",
      "             weekday               5_thu               53.86                2600\n",
      "             weekday               6_fri               51.49                3180\n",
      "             weekday               7_sat               54.36                3640\n",
      "           seconds  name\n",
      "          pipeline  0.963661\n",
      "records_from_files  0.393553\n",
      "           parsing  0.113945\n",
      "\n"
     ]
    }
   ],
   "source": [
    "#from math import abs\n",
    "class TagDebitCredit(Node):\n",
    "    def process(self, rec):\n",
    "        kind = 'debit' if rec.amount >=0 else 'credit'\n",
    "        positive_amount = abs(rec.amount)\n",
    "        self.push(rec._replace(\n",
    "                tag='{}_{}'.format(kind, rec.tag),\n",
    "                amount=positive_amount,\n",
    "            ))\n",
    "        \n",
    "def router(rec):\n",
    "    if rec.tag.startswith('debit'):\n",
    "        return 'debit_agg'\n",
    "    else:\n",
    "        return 'credit_agg'\n",
    "\n",
    "pipe = CashPipeline(\n",
    "    RecordsFromFiles('records_from_files')\n",
    "    | EmitPeriodRecs('emit_period_recs')\n",
    "      | [\n",
    "            Agg('agg'),\n",
    "            TagDebitCredit('tag_debit_credit') | [Agg('debit_agg'), Agg('credit_agg'), router]\n",
    "        ]\n",
    "    | Summary('summary')\n",
    ")\n",
    "\n",
    "    \n",
    "print pipe\n",
    "pipe.plot(display_noteook=True)\n",
    "results = pipe.consume(glob.glob('cash_flows*.csv'))\n",
    "print_results(results)\n",
    "print pipe.global_state.clock\n"
   ]
  },
  {
   "cell_type": "code",
   "execution_count": 9,
   "metadata": {
    "collapsed": true
   },
   "outputs": [],
   "source": [
    "s = '2016-01-01 08:05:59'"
   ]
  },
  {
   "cell_type": "code",
   "execution_count": 18,
   "metadata": {
    "collapsed": false
   },
   "outputs": [],
   "source": [
    "year, month, day, hour = s[:4], s[5:7], s[8:10], s[11:13]"
   ]
  },
  {
   "cell_type": "code",
   "execution_count": null,
   "metadata": {
    "collapsed": true
   },
   "outputs": [],
   "source": []
  }
 ],
 "metadata": {
  "kernelspec": {
   "display_name": "Python 2",
   "language": "python",
   "name": "python2"
  },
  "language_info": {
   "codemirror_mode": {
    "name": "ipython",
    "version": 2
   },
   "file_extension": ".py",
   "mimetype": "text/x-python",
   "name": "python",
   "nbconvert_exporter": "python",
   "pygments_lexer": "ipython2",
   "version": "2.7.12"
  }
 },
 "nbformat": 4,
 "nbformat_minor": 0
}
